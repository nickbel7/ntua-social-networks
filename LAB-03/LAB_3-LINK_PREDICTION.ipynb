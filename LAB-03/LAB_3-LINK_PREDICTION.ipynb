{
  "cells": [
    {
      "cell_type": "markdown",
      "id": "1f35580e",
      "metadata": {
        "id": "1f35580e"
      },
      "source": [
        "## **3η εργαστηριακή άσκηση** | Link prediction\n"
      ]
    },
    {
      "cell_type": "code",
      "source": [
        "import networkx as nx\n",
        "import numpy as np\n",
        "import matplotlib.pyplot as plt\n",
        "import statistics\n",
        "from tabulate import tabulate\n",
        "!pip install -U scipy==1.8.1\n",
        "import scipy\n",
        "import pandas as pd\n",
        "from tqdm import tqdm\n",
        "%matplotlib inline"
      ],
      "metadata": {
        "colab": {
          "base_uri": "https://localhost:8080/"
        },
        "id": "IXNqWtGLklgk",
        "outputId": "4ea7f2c6-4cbe-4bfd-b0c0-39d94fc72cf4"
      },
      "id": "IXNqWtGLklgk",
      "execution_count": 3,
      "outputs": [
        {
          "output_type": "stream",
          "name": "stdout",
          "text": [
            "Looking in indexes: https://pypi.org/simple, https://us-python.pkg.dev/colab-wheels/public/simple/\n",
            "Requirement already satisfied: scipy==1.8.1 in /usr/local/lib/python3.8/dist-packages (1.8.1)\n",
            "Requirement already satisfied: numpy<1.25.0,>=1.17.3 in /usr/local/lib/python3.8/dist-packages (from scipy==1.8.1) (1.24.1)\n"
          ]
        }
      ]
    },
    {
      "cell_type": "code",
      "source": [
        "from google.colab import drive\n",
        "drive.mount('/content/gdrive')"
      ],
      "metadata": {
        "colab": {
          "base_uri": "https://localhost:8080/"
        },
        "id": "9PI0JVB_iGIW",
        "outputId": "b74f3fac-f927-4696-8f80-852761d4056e"
      },
      "id": "9PI0JVB_iGIW",
      "execution_count": 4,
      "outputs": [
        {
          "output_type": "stream",
          "name": "stdout",
          "text": [
            "Drive already mounted at /content/gdrive; to attempt to forcibly remount, call drive.mount(\"/content/gdrive\", force_remount=True).\n"
          ]
        }
      ]
    },
    {
      "cell_type": "code",
      "source": [
        "import os\n",
        "os.chdir(\"/content/gdrive/MyDrive/ECE-COURSES/9-Κοινωνικά Δίκτυα/LAB-3_Data/\")\n",
        "!ls"
      ],
      "metadata": {
        "colab": {
          "base_uri": "https://localhost:8080/"
        },
        "id": "ub0ZUrBdiWd4",
        "outputId": "6d68d526-655f-45d6-97b9-862a7cfa0796"
      },
      "id": "ub0ZUrBdiWd4",
      "execution_count": 5,
      "outputs": [
        {
          "output_type": "stream",
          "name": "stdout",
          "text": [
            "meta.dbpedia-similar  out.dbpedia-similar  README.dbpedia-similar\n"
          ]
        }
      ]
    },
    {
      "cell_type": "code",
      "source": [
        "table_view = lambda data: tabulate(data, tablefmt=\"grid\")"
      ],
      "metadata": {
        "id": "7weecmuUD_mt"
      },
      "id": "7weecmuUD_mt",
      "execution_count": 6,
      "outputs": []
    },
    {
      "cell_type": "markdown",
      "source": [
        "## 1.Κατασκευή γράφου και προεργασία για την πρόβλεψη συνδέσμων"
      ],
      "metadata": {
        "id": "W6XPv7lG-VF_"
      },
      "id": "W6XPv7lG-VF_"
    },
    {
      "cell_type": "markdown",
      "source": [
        "### 1.1 Create BDpedia graph\n",
        "Χρησιμοποιήστε το dataset <a href=\"http://konect.cc/networks/dbpedia-similar/\"> Similarities (DBpedia)</a>, για να κατασκευάσετε τον μη κατευθυνόμενο (undirected) γράφο $G$ <a href=\"https://dl.acm.org/doi/10.1145/2487788.2488173\">[1]</a>,<a href=\"https://link.springer.com/chapter/10.1007/978-3-540-76298-0_52\">[2]</a>. Οι κόμβοι του γράφου αναπαριστούν σελίδες της Wikipedia και οι ακμές σχέση ομοιότητας μεταξύ τους. Στην σελίδα <a href=\"http://konect.cc/networks/dbpedia-similar/\"> KONECT (DBpedia)</a> μπορείτε να βρείτε πληροφορίες για τις ιδιότητες του γράφου."
      ],
      "metadata": {
        "id": "RUSa1dwp_EDf"
      },
      "id": "RUSa1dwp_EDf"
    },
    {
      "cell_type": "code",
      "source": [
        "# Read DBpedia dataset\n",
        "# (MultiGraph allows parallel edges)\n",
        "dbpedia = nx.read_edgelist(\"out.dbpedia-similar\", create_using=nx.MultiGraph(), comments=\"%\", nodetype=int); dbpedia.graph['name'] = 'dbpedia'"
      ],
      "metadata": {
        "id": "5wqBhaBqfWv3"
      },
      "id": "5wqBhaBqfWv3",
      "execution_count": 7,
      "outputs": []
    },
    {
      "cell_type": "markdown",
      "source": [
        "<B><U>Υπόδειξη:</U></B> Μπορείτε να ελέγξετε προγραμματιστικά αν το dataset περιέχει διπλότυπα των ακμών με την ίδια ή αντίστροφη σειρά (π.χ. ακμές (a,b) και (b,a)), και να λάβετε υπ' όψιν σας αυτήν σας την παρατήρηση, όπου τυχόν χρειαστεί, στην ερώτηση 2."
      ],
      "metadata": {
        "id": "JzHyEA07ziTc"
      },
      "id": "JzHyEA07ziTc"
    },
    {
      "cell_type": "code",
      "source": [
        "# Check for duplicate edges\n",
        "def get_parallel_edges(G):\n",
        "  unique_edges = []\n",
        "  duplicate_edges = []\n",
        "  for edge in G.edges():\n",
        "    if edge in unique_edges or tuple(reversed(edge)) in unique_edges:\n",
        "      duplicate_edges.append(edge)\n",
        "    else:\n",
        "      unique_edges.append(edge)\n",
        "\n",
        "  return duplicate_edges"
      ],
      "metadata": {
        "id": "Wm713rN-mwIM"
      },
      "id": "Wm713rN-mwIM",
      "execution_count": 8,
      "outputs": []
    },
    {
      "cell_type": "code",
      "source": [
        "dbpedia_metrics = [\n",
        "    (\"Duplicate edges\", len(get_parallel_edges(dbpedia))),\n",
        "    (\"Self-loop edges\", len(list(nx.selfloop_edges(dbpedia)))),\n",
        "]\n",
        "print(table_view(dbpedia_metrics))"
      ],
      "metadata": {
        "colab": {
          "base_uri": "https://localhost:8080/"
        },
        "id": "AMPSLG2NsdOr",
        "outputId": "06344a56-5656-4260-cace-d96584102975"
      },
      "id": "AMPSLG2NsdOr",
      "execution_count": 9,
      "outputs": [
        {
          "output_type": "stream",
          "name": "stdout",
          "text": [
            "+-----------------+---+\n",
            "| Duplicate edges | 0 |\n",
            "+-----------------+---+\n",
            "| Self-loop edges | 1 |\n",
            "+-----------------+---+\n"
          ]
        }
      ]
    },
    {
      "cell_type": "code",
      "source": [
        "# Remove all self-loop edges\n",
        "dbpedia.remove_edges_from(list(nx.selfloop_edges(dbpedia)))\n",
        "print(\"Self-loop edges: \", len(list(nx.selfloop_edges(dbpedia))))"
      ],
      "metadata": {
        "colab": {
          "base_uri": "https://localhost:8080/"
        },
        "id": "Ti0Fm5_p8XRS",
        "outputId": "7cecef87-8ee1-4639-f52a-e4ba0be05d4f"
      },
      "id": "Ti0Fm5_p8XRS",
      "execution_count": 10,
      "outputs": [
        {
          "output_type": "stream",
          "name": "stdout",
          "text": [
            "Self-loop edges:  0\n"
          ]
        }
      ]
    },
    {
      "cell_type": "markdown",
      "source": [
        "### 1.2 Graph metrics\n",
        "Εμφανίστε τον αριθμό των κόμβων, τον αριθμό των ακμών, τον μέσο βαθμό των κόμβων και τον αριθμό των συνεκτικών συνιστωσών (connected components) για τον γράφο $G$."
      ],
      "metadata": {
        "id": "3AXW5qhQ_Xv-"
      },
      "id": "3AXW5qhQ_Xv-"
    },
    {
      "cell_type": "code",
      "execution_count": 11,
      "id": "9277a4e2",
      "metadata": {
        "colab": {
          "base_uri": "https://localhost:8080/"
        },
        "id": "9277a4e2",
        "outputId": "13d9eb12-1c2f-4596-c5e8-f310518002c2"
      },
      "outputs": [
        {
          "output_type": "stream",
          "name": "stdout",
          "text": [
            "+--------------------------------+-----------+\n",
            "| Number of Nodes                | 430       |\n",
            "+--------------------------------+-----------+\n",
            "| Number of Edges                | 564       |\n",
            "+--------------------------------+-----------+\n",
            "| Average node degree            |   2.62326 |\n",
            "+--------------------------------+-----------+\n",
            "| Number of Connected Components |  95       |\n",
            "+--------------------------------+-----------+\n"
          ]
        }
      ],
      "source": [
        "initial_node_count = dbpedia.number_of_nodes()\n",
        "initial_edge_count = dbpedia.number_of_edges()\n",
        "initial_average_node_degree = statistics.mean([dbpedia.degree(node) for node in dbpedia.nodes()])\n",
        "initial_connected_components = nx.number_connected_components(dbpedia)    \n",
        "\n",
        "dbpedia_metrics = [\n",
        "    (\"Number of Nodes\", initial_node_count),\n",
        "    (\"Number of Edges\", initial_edge_count),\n",
        "    (\"Average node degree\", initial_average_node_degree),\n",
        "    (\"Number of Connected Components\", initial_connected_components),\n",
        "]\n",
        "print(table_view(dbpedia_metrics))"
      ]
    },
    {
      "cell_type": "markdown",
      "id": "bf03f6b9",
      "metadata": {
        "id": "bf03f6b9"
      },
      "source": [
        "### 1.3. Find uconnected pairs\n",
        "Υπολογίστε το σύνολο των ασύνδετων ζευγών κόμβων (unconnected pairs) στον γράφο χρησιμοποιώντας τον πίνακα γειτνίασης (adjacency matrix). Δώστε επίσης τον αριθμό τους. Λάβετε υπ' όψιν σας ότι ο γράφος είναι μη κατευθυνόμενος και δεν χρειάζεται να διατρέξετε ολόκληρο τον πίνακα γειτνίασης."
      ]
    },
    {
      "cell_type": "code",
      "source": [
        "# Find all unconnected node pairs\n",
        "dbpedia_adj = nx.adjacency_matrix(dbpedia).toarray() # 2D array\n",
        "dbpedia_nodes = list(dbpedia.nodes())\n",
        "dbpedia_unconnected_node_pairs = []          # list of tuples [(1,2), (1,4), ...]\n",
        "for i in range(initial_node_count):\n",
        "  for j in range(i+1, initial_node_count):\n",
        "    if (dbpedia_adj[i][j] == 0):\n",
        "      dbpedia_unconnected_node_pairs.append((dbpedia_nodes[i], dbpedia_nodes[j]))"
      ],
      "metadata": {
        "colab": {
          "base_uri": "https://localhost:8080/"
        },
        "id": "xS1TO3GN-6KG",
        "outputId": "ee58d18e-6cd4-4beb-ad56-a958d1ca57e6"
      },
      "id": "xS1TO3GN-6KG",
      "execution_count": 12,
      "outputs": [
        {
          "output_type": "stream",
          "name": "stderr",
          "text": [
            "<ipython-input-12-0a0b739aa42b>:2: FutureWarning: adjacency_matrix will return a scipy.sparse array instead of a matrix in Networkx 3.0.\n",
            "  dbpedia_adj = nx.adjacency_matrix(dbpedia).toarray() # 2D array\n"
          ]
        }
      ]
    },
    {
      "cell_type": "code",
      "source": [
        "# Count unconnected node pairs\n",
        "dbpedia_metrics = [\n",
        "    (\"Number of Unconnected Node Pairs: \", len(dbpedia_unconnected_node_pairs)),\n",
        "]\n",
        "print(table_view(dbpedia_metrics))"
      ],
      "metadata": {
        "colab": {
          "base_uri": "https://localhost:8080/"
        },
        "id": "-ukEmP8ud7yo",
        "outputId": "3edbec49-883c-4959-d68f-175fd9ac27bb"
      },
      "id": "-ukEmP8ud7yo",
      "execution_count": 13,
      "outputs": [
        {
          "output_type": "stream",
          "name": "stdout",
          "text": [
            "+-----------------------------------+-------+\n",
            "| Number of Unconnected Node Pairs: | 91671 |\n",
            "+-----------------------------------+-------+\n"
          ]
        }
      ]
    },
    {
      "cell_type": "markdown",
      "id": "154c2a8d",
      "metadata": {
        "id": "154c2a8d"
      },
      "source": [
        "### 1.4 Find removable edges\n",
        "Υπολογίστε το σύνολο των ακμών (removable edges) που μπορούν να αφαιρεθούν από τον γράφο χωρίς να υπάρχει κατάτμηση (splitting) του γράφου (δηλ. ο αριθμός των συνεκτικών συνιστωσών θα πρέπει να παραμένει αμετάβλητος). Υπόδειξη: Ελέγχετε επίσης ότι με αφαίρεση ακμής δεν μειώνεται ο αριθμός των κόμβων (εφόσον δεν υπάρχει ξεχωριστό αρχείο μόνο με κόμβους στο dataset). Δώστε επίσης τον αριθμό των ακμών (removable edges) που μπορούν να αφαιρεθούν υπό αυτές τις προϋποθέσεις."
      ]
    },
    {
      "cell_type": "code",
      "execution_count": 14,
      "id": "b39c2241",
      "metadata": {
        "id": "b39c2241"
      },
      "outputs": [],
      "source": [
        "# removable edges (retain the number of connected components)\n",
        "dbpedia_initial_edges = list(dbpedia.edges())\n",
        "dbpedia_tmp = dbpedia.copy()      # create a copy to retain the initial graph\n",
        "dbpedia_removable_edges = []      # list of tuples [(1,2), (1,4), ...]\n",
        "for edge in dbpedia_initial_edges:\n",
        "  dbpedia_tmp.remove_edge(*edge)      # * unpacks edge from an edge tuple\n",
        "  if (nx.number_connected_components(dbpedia_tmp) == initial_connected_components):\n",
        "    dbpedia_removable_edges.append(edge)\n",
        "  else:\n",
        "    dbpedia_tmp.add_edge(*edge)"
      ]
    },
    {
      "cell_type": "code",
      "source": [
        "# Count removable edges\n",
        "dbpedia_metrics = [\n",
        "    (\"Number of Removable Edges: \", len(dbpedia_removable_edges)),\n",
        "]\n",
        "print(table_view(dbpedia_metrics))"
      ],
      "metadata": {
        "colab": {
          "base_uri": "https://localhost:8080/"
        },
        "id": "XPcSvKq-hIjz",
        "outputId": "b05c7e94-55d6-4164-8773-eb27e62f510b"
      },
      "id": "XPcSvKq-hIjz",
      "execution_count": 15,
      "outputs": [
        {
          "output_type": "stream",
          "name": "stdout",
          "text": [
            "+----------------------------+-----+\n",
            "| Number of Removable Edges: | 229 |\n",
            "+----------------------------+-----+\n"
          ]
        }
      ]
    },
    {
      "cell_type": "markdown",
      "id": "eb03d745",
      "metadata": {
        "id": "eb03d745"
      },
      "source": [
        "### 1.5 Create new subgraph G'\n"
      ]
    },
    {
      "cell_type": "markdown",
      "source": [
        "#### 1.5.1 Create absent edges DataFrame\n",
        "Κατασκευάστε dataframe που συνενώνει τις απαντήσεις των ερωτημάτων 1.3 και 1.4 (unconnected+removables). Χρησιμοποιήστε την μεταβλητή $link$ που θα παίρνει τιμή 1 ή 0 ανάλογα με την ύπαρξη συνδέσμου ή μη. To dataframe αυτό συγκεντρώνει τα θετικά και αρνητικά δείγματα για την πρόβλεψη των μελλοντικών συνδέσεων (link: target variable). <BR>\n",
        "\n",
        "*Ο πίνακας θα πρέπει να περιέχει μόνο τις ακμές που δεν υπάρχουν στον αρχικό γράφο G' (και όχι όσες μένουν μετά την αφαίρεση των removable edges)"
      ],
      "metadata": {
        "id": "u1TcW0OskBzc"
      },
      "id": "u1TcW0OskBzc"
    },
    {
      "cell_type": "code",
      "source": [
        "# Create the two columns (1 for the edge pairs, 1 for the link values)\n",
        "dbpedia_absent_edges_pairs = dbpedia_unconnected_node_pairs + dbpedia_removable_edges\n",
        "dbpedia_absent_edges_links =  [0] * len(dbpedia_unconnected_node_pairs) + [1] * len(dbpedia_removable_edges) # 0 for non-existent edge, 1 for removable edge\n",
        "\n",
        "dbpedia_absent_edges_data = {\n",
        "    \"edge\": dbpedia_absent_edges_pairs,\n",
        "    \"link\": dbpedia_absent_edges_links\n",
        "}\n",
        "\n",
        "# Create the DataFrame\n",
        "dbpedia_absent_edges_df = pd.DataFrame(dbpedia_absent_edges_data)\n",
        "\n",
        "display(dbpedia_absent_edges_df)"
      ],
      "metadata": {
        "colab": {
          "base_uri": "https://localhost:8080/",
          "height": 424
        },
        "id": "e8ead0FVmLpH",
        "outputId": "b55d7c9d-ca81-4fa7-b452-185cf01b6417"
      },
      "id": "e8ead0FVmLpH",
      "execution_count": 16,
      "outputs": [
        {
          "output_type": "display_data",
          "data": {
            "text/plain": [
              "             edge  link\n",
              "0          (1, 6)     0\n",
              "1         (1, 46)     0\n",
              "2         (1, 47)     0\n",
              "3         (1, 48)     0\n",
              "4         (1, 32)     0\n",
              "...           ...   ...\n",
              "91895  (401, 403)     1\n",
              "91896  (401, 404)     1\n",
              "91897  (402, 403)     1\n",
              "91898  (402, 404)     1\n",
              "91899  (403, 404)     1\n",
              "\n",
              "[91900 rows x 2 columns]"
            ],
            "text/html": [
              "\n",
              "  <div id=\"df-cf1bed29-c1b3-44a4-9f84-9cf467cf71e5\">\n",
              "    <div class=\"colab-df-container\">\n",
              "      <div>\n",
              "<style scoped>\n",
              "    .dataframe tbody tr th:only-of-type {\n",
              "        vertical-align: middle;\n",
              "    }\n",
              "\n",
              "    .dataframe tbody tr th {\n",
              "        vertical-align: top;\n",
              "    }\n",
              "\n",
              "    .dataframe thead th {\n",
              "        text-align: right;\n",
              "    }\n",
              "</style>\n",
              "<table border=\"1\" class=\"dataframe\">\n",
              "  <thead>\n",
              "    <tr style=\"text-align: right;\">\n",
              "      <th></th>\n",
              "      <th>edge</th>\n",
              "      <th>link</th>\n",
              "    </tr>\n",
              "  </thead>\n",
              "  <tbody>\n",
              "    <tr>\n",
              "      <th>0</th>\n",
              "      <td>(1, 6)</td>\n",
              "      <td>0</td>\n",
              "    </tr>\n",
              "    <tr>\n",
              "      <th>1</th>\n",
              "      <td>(1, 46)</td>\n",
              "      <td>0</td>\n",
              "    </tr>\n",
              "    <tr>\n",
              "      <th>2</th>\n",
              "      <td>(1, 47)</td>\n",
              "      <td>0</td>\n",
              "    </tr>\n",
              "    <tr>\n",
              "      <th>3</th>\n",
              "      <td>(1, 48)</td>\n",
              "      <td>0</td>\n",
              "    </tr>\n",
              "    <tr>\n",
              "      <th>4</th>\n",
              "      <td>(1, 32)</td>\n",
              "      <td>0</td>\n",
              "    </tr>\n",
              "    <tr>\n",
              "      <th>...</th>\n",
              "      <td>...</td>\n",
              "      <td>...</td>\n",
              "    </tr>\n",
              "    <tr>\n",
              "      <th>91895</th>\n",
              "      <td>(401, 403)</td>\n",
              "      <td>1</td>\n",
              "    </tr>\n",
              "    <tr>\n",
              "      <th>91896</th>\n",
              "      <td>(401, 404)</td>\n",
              "      <td>1</td>\n",
              "    </tr>\n",
              "    <tr>\n",
              "      <th>91897</th>\n",
              "      <td>(402, 403)</td>\n",
              "      <td>1</td>\n",
              "    </tr>\n",
              "    <tr>\n",
              "      <th>91898</th>\n",
              "      <td>(402, 404)</td>\n",
              "      <td>1</td>\n",
              "    </tr>\n",
              "    <tr>\n",
              "      <th>91899</th>\n",
              "      <td>(403, 404)</td>\n",
              "      <td>1</td>\n",
              "    </tr>\n",
              "  </tbody>\n",
              "</table>\n",
              "<p>91900 rows × 2 columns</p>\n",
              "</div>\n",
              "      <button class=\"colab-df-convert\" onclick=\"convertToInteractive('df-cf1bed29-c1b3-44a4-9f84-9cf467cf71e5')\"\n",
              "              title=\"Convert this dataframe to an interactive table.\"\n",
              "              style=\"display:none;\">\n",
              "        \n",
              "  <svg xmlns=\"http://www.w3.org/2000/svg\" height=\"24px\"viewBox=\"0 0 24 24\"\n",
              "       width=\"24px\">\n",
              "    <path d=\"M0 0h24v24H0V0z\" fill=\"none\"/>\n",
              "    <path d=\"M18.56 5.44l.94 2.06.94-2.06 2.06-.94-2.06-.94-.94-2.06-.94 2.06-2.06.94zm-11 1L8.5 8.5l.94-2.06 2.06-.94-2.06-.94L8.5 2.5l-.94 2.06-2.06.94zm10 10l.94 2.06.94-2.06 2.06-.94-2.06-.94-.94-2.06-.94 2.06-2.06.94z\"/><path d=\"M17.41 7.96l-1.37-1.37c-.4-.4-.92-.59-1.43-.59-.52 0-1.04.2-1.43.59L10.3 9.45l-7.72 7.72c-.78.78-.78 2.05 0 2.83L4 21.41c.39.39.9.59 1.41.59.51 0 1.02-.2 1.41-.59l7.78-7.78 2.81-2.81c.8-.78.8-2.07 0-2.86zM5.41 20L4 18.59l7.72-7.72 1.47 1.35L5.41 20z\"/>\n",
              "  </svg>\n",
              "      </button>\n",
              "      \n",
              "  <style>\n",
              "    .colab-df-container {\n",
              "      display:flex;\n",
              "      flex-wrap:wrap;\n",
              "      gap: 12px;\n",
              "    }\n",
              "\n",
              "    .colab-df-convert {\n",
              "      background-color: #E8F0FE;\n",
              "      border: none;\n",
              "      border-radius: 50%;\n",
              "      cursor: pointer;\n",
              "      display: none;\n",
              "      fill: #1967D2;\n",
              "      height: 32px;\n",
              "      padding: 0 0 0 0;\n",
              "      width: 32px;\n",
              "    }\n",
              "\n",
              "    .colab-df-convert:hover {\n",
              "      background-color: #E2EBFA;\n",
              "      box-shadow: 0px 1px 2px rgba(60, 64, 67, 0.3), 0px 1px 3px 1px rgba(60, 64, 67, 0.15);\n",
              "      fill: #174EA6;\n",
              "    }\n",
              "\n",
              "    [theme=dark] .colab-df-convert {\n",
              "      background-color: #3B4455;\n",
              "      fill: #D2E3FC;\n",
              "    }\n",
              "\n",
              "    [theme=dark] .colab-df-convert:hover {\n",
              "      background-color: #434B5C;\n",
              "      box-shadow: 0px 1px 3px 1px rgba(0, 0, 0, 0.15);\n",
              "      filter: drop-shadow(0px 1px 2px rgba(0, 0, 0, 0.3));\n",
              "      fill: #FFFFFF;\n",
              "    }\n",
              "  </style>\n",
              "\n",
              "      <script>\n",
              "        const buttonEl =\n",
              "          document.querySelector('#df-cf1bed29-c1b3-44a4-9f84-9cf467cf71e5 button.colab-df-convert');\n",
              "        buttonEl.style.display =\n",
              "          google.colab.kernel.accessAllowed ? 'block' : 'none';\n",
              "\n",
              "        async function convertToInteractive(key) {\n",
              "          const element = document.querySelector('#df-cf1bed29-c1b3-44a4-9f84-9cf467cf71e5');\n",
              "          const dataTable =\n",
              "            await google.colab.kernel.invokeFunction('convertToInteractive',\n",
              "                                                     [key], {});\n",
              "          if (!dataTable) return;\n",
              "\n",
              "          const docLinkHtml = 'Like what you see? Visit the ' +\n",
              "            '<a target=\"_blank\" href=https://colab.research.google.com/notebooks/data_table.ipynb>data table notebook</a>'\n",
              "            + ' to learn more about interactive tables.';\n",
              "          element.innerHTML = '';\n",
              "          dataTable['output_type'] = 'display_data';\n",
              "          await google.colab.output.renderOutput(dataTable, element);\n",
              "          const docLink = document.createElement('div');\n",
              "          docLink.innerHTML = docLinkHtml;\n",
              "          element.appendChild(docLink);\n",
              "        }\n",
              "      </script>\n",
              "    </div>\n",
              "  </div>\n",
              "  "
            ]
          },
          "metadata": {}
        }
      ]
    },
    {
      "cell_type": "markdown",
      "source": [
        "#### 1.5.2 Create G' = G - removable edges\n",
        "Κατασκευάστε τον γράφο $G'$ που προκύπτει από την αφαίρεση από τον γράφο $G$ των ακμών του ερωτήματος 1.4."
      ],
      "metadata": {
        "id": "DD6hw1ozkE3l"
      },
      "id": "DD6hw1ozkE3l"
    },
    {
      "cell_type": "code",
      "source": [
        "# G / dbpedia       : G(t+k) - later graph\n",
        "# G'/ dbpedia_trunc : G(t)   - initial graph\n",
        "dbpedia_trunc = dbpedia.copy()                          \n",
        "dbpedia_trunc.remove_edges_from(dbpedia_removable_edges)"
      ],
      "metadata": {
        "id": "3ZNkXDeykSaT"
      },
      "id": "3ZNkXDeykSaT",
      "execution_count": 17,
      "outputs": []
    },
    {
      "cell_type": "code",
      "source": [
        "dbpedia_metrics = [\n",
        "    (\"G Edges: \", initial_edge_count),\n",
        "    (\"G' Edges: \", len(dbpedia_trunc.edges())),\n",
        "]\n",
        "print(table_view(dbpedia_metrics))"
      ],
      "metadata": {
        "colab": {
          "base_uri": "https://localhost:8080/"
        },
        "id": "u81nWuAQlobe",
        "outputId": "826ff769-8241-4307-baea-6706a29617bb"
      },
      "id": "u81nWuAQlobe",
      "execution_count": 18,
      "outputs": [
        {
          "output_type": "stream",
          "name": "stdout",
          "text": [
            "+-----------+-----+\n",
            "| G Edges:  | 564 |\n",
            "+-----------+-----+\n",
            "| G' Edges: | 335 |\n",
            "+-----------+-----+\n"
          ]
        }
      ]
    },
    {
      "cell_type": "markdown",
      "source": [
        "#### 1.5.3 G' metrics\n",
        "Εμφανίστε τον αριθμό των κόμβων, τον αριθμό των ακμών, τον μέσο βαθμό των κόμβων και τον αριθμό των συνεκτικών συνιστωσών (connected components) για τον γράφο $G'$.</li><BR>"
      ],
      "metadata": {
        "id": "3Bg3HjvwkHUq"
      },
      "id": "3Bg3HjvwkHUq"
    },
    {
      "cell_type": "code",
      "execution_count": 19,
      "id": "cb033fc0",
      "metadata": {
        "colab": {
          "base_uri": "https://localhost:8080/"
        },
        "id": "cb033fc0",
        "outputId": "c3359c83-625e-452a-d0f3-487b01c6c03f"
      },
      "outputs": [
        {
          "output_type": "stream",
          "name": "stdout",
          "text": [
            "+--------------------------------+-----------+\n",
            "| Number of Nodes                | 430       |\n",
            "+--------------------------------+-----------+\n",
            "| Number of Edges                | 335       |\n",
            "+--------------------------------+-----------+\n",
            "| Average node degree            |   1.55814 |\n",
            "+--------------------------------+-----------+\n",
            "| Number of Connected Components |  95       |\n",
            "+--------------------------------+-----------+\n"
          ]
        }
      ],
      "source": [
        "trunc_node_count = dbpedia_trunc.number_of_nodes()\n",
        "trunc_edge_count = dbpedia_trunc.number_of_edges()\n",
        "trunc_average_node_degree = statistics.mean([dbpedia_trunc.degree(node) for node in dbpedia_trunc.nodes()])\n",
        "trunc_connected_components = nx.number_connected_components(dbpedia_trunc)    \n",
        "\n",
        "dbpedia_metrics = [\n",
        "    (\"Number of Nodes\", trunc_node_count),\n",
        "    (\"Number of Edges\", trunc_edge_count),\n",
        "    (\"Average node degree\", trunc_average_node_degree),\n",
        "    (\"Number of Connected Components\", trunc_connected_components),\n",
        "]\n",
        "print(table_view(dbpedia_metrics))"
      ]
    },
    {
      "cell_type": "markdown",
      "id": "184eae57",
      "metadata": {
        "id": "184eae57"
      },
      "source": [
        "## 2.Εισαγωγή σε similarity-based μετρικές για Link prediction\n",
        "\n",
        "- Η μετρική <B>Jaccard Coefficient (JC)</B> των κόμβων ${u}$ και ${v}$ ορίζεται ως $\\frac{|\\Gamma(u) \\cap \\Gamma(v)|}{|\\Gamma(u) \\cup \\Gamma(v)|}$, όπου ${\\Gamma(u)}$ είναι το σύνολο των γειτονικών κόμβων του κόμβου ${u}$.\n",
        "- Η μετρική <B>Preferential Αttachment (PA)</B> των κόμβων $u$ και $v$ ορίζεται ως $|\\Gamma(u)| |\\Gamma(v)|$, όπου $\\Gamma(u)$ είναι το σύνολο των γειτονικών κόμβων του $u$.\n",
        "- Η μετρική <B>Resource Allocation (RA)</B> των κόμβων $u$ και $v$ ορίζεται ως $\\sum_{w \\in \\Gamma(u) \\cap \\Gamma(v)} \\frac{1}{|\\Gamma(w)|}$, όπου $\\Gamma(u)$ είναι το σύνολο των γειτονικών κόμβων του $u$.\n",
        "\n",
        "    "
      ]
    },
    {
      "cell_type": "markdown",
      "source": [
        "### 2.1 Calculate Jaccard Coefficient\n",
        "Για τον γράφο $G'$, που κατασκευάσατε στο ερώτημα 1.5.2, υπολογίστε την μετρική <B>Jaccard Coefficient (JC)</B>.  <u><a href=\"https://networkx.org/documentation/stable/reference/algorithms/link_prediction.html?highlight=link%20prediction\">Χρησιμοποιήστε την υλοποιημένη συνάρτηση του λογισμικού NetworkX.<a></u> <BR><BR>"
      ],
      "metadata": {
        "id": "LMw4-CCIIVma"
      },
      "id": "LMw4-CCIIVma"
    },
    {
      "cell_type": "code",
      "source": [
        "# Calculate Jaccard Coefficient for Absent Edges (Unconnected + Removable edges)\n",
        "# https://networkx.org/documentation/stable/reference/algorithms/generated/networkx.algorithms.link_prediction.jaccard_coefficient.html#networkx.algorithms.link_prediction.jaccard_coefficient\n",
        "dbpedia_trunc = nx.Graph(dbpedia_trunc)    # turn MultiGraph to Graph (for the jaccard coefficient function to work)\n",
        "dbpedia_trunc_JC = list(nx.jaccard_coefficient(dbpedia_trunc, dbpedia_absent_edges_pairs))  # list of tuples : [(1, 6, 0.0), (1, 7, 0.3), ...]"
      ],
      "metadata": {
        "id": "hzHS6z-7-21F"
      },
      "id": "hzHS6z-7-21F",
      "execution_count": 20,
      "outputs": []
    },
    {
      "cell_type": "markdown",
      "source": [
        "### 2.2 Find highest JC nodes\n",
        "Δώστε τις $k$ ακμές με την υψηλότερη τιμή μετρικής $JC$, όπου $k$ ο $Α.Μ.$ σας $mod$ $10$. Για $Α.Μ.$ λήγοντα σε $0$ δώστε τις $10$ ακμές με την υψηλότερη τιμή μετρικής.\n",
        "        (Για την σύγκριση μεταξύ διαφορετικών μετρικών προτιμάται η εύρεση των $k$ επικρατέστερων συνδέσμων, αφού οι μετρικές επιστρέφουν διαφορετικό εύρος τιμών.)"
      ],
      "metadata": {
        "id": "Gu9rRTh4IsVl"
      },
      "id": "Gu9rRTh4IsVl"
    },
    {
      "cell_type": "code",
      "source": [
        "# Get node pairs with highest Jaccard Coefficient values\n",
        "AM = 3\n",
        "dbpedia_trunc_JC_top = sorted(dbpedia_trunc_JC, key=lambda x: x[2], reverse=True)[:AM]\n",
        "print(dbpedia_trunc_JC_top)"
      ],
      "metadata": {
        "colab": {
          "base_uri": "https://localhost:8080/"
        },
        "id": "AzQJpx5f-6AR",
        "outputId": "532fdb5d-5b26-411b-d75b-c093f238edd5"
      },
      "id": "AzQJpx5f-6AR",
      "execution_count": 21,
      "outputs": [
        {
          "output_type": "stream",
          "name": "stdout",
          "text": [
            "[(4, 46, 1.0), (4, 47, 1.0), (4, 49, 1.0)]\n"
          ]
        }
      ]
    },
    {
      "cell_type": "markdown",
      "source": [
        "### 2.3 Calculate Precision, Recall, Accuracy\n",
        "</B>Προσδιορίστε για την μέτρηση της απόδοσης της μετρικής $JC$ τα μεγέθη $Precision$, $Recall$ και $Accuracy$ και αναπαραστήστε τα γραφικά για τιμές κατωφλίου: $0.1$, $0.15$, $0.25$, $0.5$, $1.0$.  <BR><BR>\n",
        "    $Precision=\\frac{TP}{TP+FP}$, όπου $TP$: αληθώς θετικά αποτελέσματα, $FP$: ψευδώς θετικά αποτελέσματα <BR>\n",
        "    $Recall=\\frac{TP}{TP+FN}$, όπου $TP$: αληθώς θετικά αποτελέσματα, $FN$: ψευδώς αρνητικά αποτελέσματα</li> <BR>\n",
        "    $Accuracy=\\frac{TP+TN}{TP+FN+TN+FP}$, όπου $TP$: αληθώς θετικά αποτελέσματα, $TN$: αληθώς αρνητικά αποτελέσματα, $FN$: ψευδώς αρνητικά αποτελέσματα, $FP$: ψευδώς θετικά αποτελέσματα</li><BR><BR>\n",
        "        <B><U>Υπόδειξη:</U></B>\n",
        "        Θετικό θεωρήστε ένα αποτέλεσμα, αν η μετρική $JC$ υπερβαίνει μια τιμή κατωφλίου (>=). Αρνητικό θεωρήστε το στην αντίθετη περίπτωση.\n",
        "        <li>Αληθώς θετικά είναι τα αποτελέσματα που βγήκαν θετικά (η τιμή της $JC$ υπερβαίνει την τιμή κατωφλίου) και πράγματι θα υπάρξουν οι συνδέσεις που περιγράφουν (ερ. 1.4).</li>\n",
        "        <li>Αληθώς αρνητικά είναι τα αποτελέσματα που βγήκαν αρνητικά και πράγματι δεν θα υπάρξουν οι συνδέσεις που περιγράφουν (ερ. 1.3).</li>\n",
        "        <li>Ψευδώς θετικά είναι τα αποτελέσματα που βγήκαν θετικά, ενώ δεν θα υπάρξουν οι συνδέσεις που περιγράφουν.</li>\n",
        "        <li>Ψευδώς αρνητικά είναι τα αποτελέσματα που βγήκαν αρνητικά, ενώ θα υπάρξουν οι συνδέσεις που περιγράφουν.</li>\n",
        "        <li>Το άθροισμα $TN+FP$ πρέπει κάθε φορά να σας δίνει όλες τις ασύνδετες ακμές του γράφου $G$.</li>   \n",
        "<li>Από το ερώτημα 1.3 οι ακμές που υπολογίσατε είναι αυτές για τις οποίες δεν θα υπάρξουν συνδέσεις.</li> <li>Από το ερώτημα 1.4 οι ακμές που υπολογίσατε είναι αυτές για τις οποίες θα υπάρξουν συνδέσεις."
      ],
      "metadata": {
        "id": "e8NpmVf0IxbU"
      },
      "id": "e8NpmVf0IxbU"
    },
    {
      "cell_type": "code",
      "execution_count": 22,
      "id": "d8b0d5fd",
      "metadata": {
        "id": "d8b0d5fd"
      },
      "outputs": [],
      "source": [
        "# Non-existent edges : dbpedia_unconnected_node_pairs\n",
        "# Removable edges    : dbpedia_removable_edges\n",
        "# Absent edges (df)  : dbpedia_absent_edges_df (non-existent + removable)\n",
        "# Absent edges (JC)  : dbpedia_trunc_JC - list of tuples : [(1, 6, 0.0), (1, 7, 0.3), ...]\n",
        "def JCfunction(threshold_jc):   \n",
        "  # Quantize the Jaccard Coefficient values (0: if JC <= threshold, 1: if JC > threshold )\n",
        "  dbpedia_trunc_JC_quant = [(x, y, int(z >= threshold_jc)) for (x, y, z) in dbpedia_trunc_JC]\n",
        "  # Calculate TP, TN, FP, FN\n",
        "  TP = 0; TN = 0; FP = 0; FN = 0\n",
        "  for edge in dbpedia_trunc_JC_quant:\n",
        "    # true_value = int(dbpedia_absent_edges_df.loc[dbpedia_absent_edges_df['edge'] == (edge[0], edge[1])]['link']) # Find row for edge (x,y) and get the link value (0 or 1)\n",
        "    true_value = 0\n",
        "    if ((edge[0], edge[1]) in dbpedia_removable_edges): true_value = 1\n",
        "    guess_value = edge[2]\n",
        "    if (true_value == guess_value == 1):\n",
        "      TP += 1\n",
        "    if (true_value == guess_value == 0):\n",
        "      TN += 1\n",
        "    if (true_value != guess_value == 1):\n",
        "      FP += 1\n",
        "    if (true_value != guess_value == 0):\n",
        "      FN += 1\n",
        "\n",
        "  # RECALL\n",
        "  recall_jc = TP / (TP + FN)\n",
        "  # PRECISION\n",
        "  precision_jc = TP / (TP + FP)\n",
        "  # ACCURACY\n",
        "  accuracy_jc = (TP + TN) / (TP + TN + FP + FN)\n",
        "\n",
        "  return recall_jc, precision_jc, accuracy_jc"
      ]
    },
    {
      "cell_type": "code",
      "source": [
        "# Calculate metrics for different thresholds\n",
        "dbpedia_metrics = [\n",
        "    (\"Threshold\", \"Recall\", \"Precision\", \"Accuracy\")\n",
        "]\n",
        "\n",
        "# Plotting\n",
        "recall_y = []; precision_y = []; accuracy_y = []\n",
        "\n",
        "for threshold in [0.1, 0.15, 0.25, 0.5, 1.0]:\n",
        "  recall, precision, accuracy = JCfunction(threshold)\n",
        "  dbpedia_metrics.append(\n",
        "      (threshold, np.round(recall, 3), np.round(precision, 3), np.round(accuracy, 3))\n",
        "  )\n",
        "  # For plotting\n",
        "  recall_y.append(np.round(recall, 3)); precision_y.append(np.round(precision, 3)); accuracy_y.append(np.round(accuracy, 3))\n",
        "\n",
        "print(table_view(dbpedia_metrics))"
      ],
      "metadata": {
        "colab": {
          "base_uri": "https://localhost:8080/"
        },
        "id": "SW2abKbgI78r",
        "outputId": "fcc4d7e2-6fd9-4241-83ee-b5cc57787063"
      },
      "id": "SW2abKbgI78r",
      "execution_count": 23,
      "outputs": [
        {
          "output_type": "stream",
          "name": "stdout",
          "text": [
            "+-----------+--------+-----------+----------+\n",
            "| Threshold | Recall | Precision | Accuracy |\n",
            "+-----------+--------+-----------+----------+\n",
            "| 0.1       | 0.707  | 0.321     | 0.996    |\n",
            "+-----------+--------+-----------+----------+\n",
            "| 0.15      | 0.69   | 0.324     | 0.996    |\n",
            "+-----------+--------+-----------+----------+\n",
            "| 0.25      | 0.677  | 0.346     | 0.996    |\n",
            "+-----------+--------+-----------+----------+\n",
            "| 0.5       | 0.603  | 0.417     | 0.997    |\n",
            "+-----------+--------+-----------+----------+\n",
            "| 1.0       | 0.55   | 0.51      | 0.998    |\n",
            "+-----------+--------+-----------+----------+\n"
          ]
        }
      ]
    },
    {
      "cell_type": "code",
      "source": [
        "# Plot the different metrics\n",
        "plt.figure(figsize=(15, 4))\n",
        "metrics_x = ['0.1', '0.15', '0.25', '0.5', '1.0']\n",
        "\n",
        "# Recall\n",
        "plt.subplot(131); plt.title('Recall', fontsize=20)\n",
        "plt.bar(metrics_x, recall_y)\n",
        "# Precision\n",
        "plt.subplot(132); plt.title('Precision', fontsize=20)\n",
        "plt.bar(metrics_x, precision_y)\n",
        "# Accuracy\n",
        "plt.subplot(133); plt.title('Accuracy', fontsize=20)\n",
        "plt.bar(metrics_x, accuracy_y)\n",
        "plt.ylim(0.97, 1.0)\n",
        "\n",
        "plt.show()"
      ],
      "metadata": {
        "colab": {
          "base_uri": "https://localhost:8080/",
          "height": 286
        },
        "id": "i3fJAZsbhsns",
        "outputId": "f5dc850e-b775-420e-802f-13353e439d42"
      },
      "id": "i3fJAZsbhsns",
      "execution_count": 24,
      "outputs": [
        {
          "output_type": "display_data",
          "data": {
            "text/plain": [
              "<Figure size 1080x288 with 3 Axes>"
            ],
            "image/png": "[encoded data removed]"
          },
          "metadata": {
            "needs_background": "light"
          }
        }
      ]
    },
    {
      "cell_type": "markdown",
      "id": "d432396f",
      "metadata": {
        "id": "d432396f"
      },
      "source": [
        "## 3.Πρόβλεψη συνδέσμων βάσει similarity-based μετρικών"
      ]
    },
    {
      "cell_type": "markdown",
      "source": [
        "### 3.1. Suggest correlation method\n",
        "</B> Προτείνετε μια τουλάχιστον μέθοδο, για να εξερευνήσουμε και να εκφράσουμε μέσα από τα πακέτα NumPy ή SciPy ή Pandas την συσχέτιση (correlation) μεταξύ των τιμών των μετρικών <B>Jaccard Coefficient</B>, <B>Preferential Attachment</B>, <B>Resource Allocation</B> για τον μειωμένο γράφο $G'$. Σημ.: Δεν χρειάζεται κάποια υλοποίηση, μόνο αναφορά της μεθόδου συσχέτισης και επεξήγηση της επιλογής σας."
      ],
      "metadata": {
        "id": "ftiKiMx3JW1J"
      },
      "id": "ftiKiMx3JW1J"
    },
    {
      "cell_type": "markdown",
      "source": [
        "**ΠΡΟΤΑΣΗ**\n",
        "\n",
        "---\n",
        "Αρχικά πρέπει να εξετάσουμε ποιές είναι οι διαθέσιμες επιλογές όσον αφορά την ευρεση **correlation** μεταξύ των 3ων μεθόδων (**Jaccard Coefficient, Preferential Attachment, Resource Allocation**)\n",
        "[Correlation: numpy, scipy, pandas](https://realpython.com/numpy-scipy-pandas-correlation-python/)\n",
        "1. Linear correlation (measures linear relationship) \n",
        "  - Pearson Correlation\n",
        "  - Linear Regression\n",
        "2. Rank Correlation (compares ordering of data)\n",
        "  - Spearman Correlation\n",
        "  - Kendall Correlation\n",
        "\n",
        "Στη δική μας περίπτωση τα δεδομένα που έχουμε δεν αντιπροσωπεύουνται από κάποιο αριθμητικό τύπο αλλά απορρέουν από μία φαινομενικά τυχαία τοπολογία του γράφου. Για αυτό το λόγο δεν μπορούμε από πριν να θεωρήσουμε ότι υπάρχει κάποια γραμμική συσχέτιση των χαρακτηριστικών μεταξύ τους, το οποίο θα μας παρέπεμτε στο Linear Correlation. Υπάρχει όμως η περίπτωση να θέλουμε να εξερευνήσουμε άμα υπάρχει κάποια πιο συγκεκριμένη σχέση μεταξύ των μεθόδων, δηλαδή να προσπαθήσουμε να εξάγουμε κάποιο τύπο. Τότε θα κατατρέξουμε στο Linear Correlation. Στη περίπτωση όμως που χρειαζόμαστε μία πιο γενική εικόνα για το άμα συσχετίζονται και πως οι μέθοδοι αυτοί, τοτε θα χρησιμοποιούσαμε κάποια τεχνική του Rank Correlation, η οποία θα μας έδειχνε για παράδειγμα, άμα όταν αυξάνεται η τιμή της μία παραμέτρου, αυξάνεται και της άλλης."
      ],
      "metadata": {
        "id": "g6Xoue9nVSQs"
      },
      "id": "g6Xoue9nVSQs"
    },
    {
      "cell_type": "markdown",
      "source": [
        "### 3.2 Add JC, PA, RA to DataFrame\n",
        "Εργαστείτε πάνω σε <B><U>αντίγραφο</U></B> του dataframe που κατασκευάσατε στο ερώτημα 1.5.1 (unconnected+removables). Δημιουργήστε στήλη (column) με τις ακμές του γράφου και θέστε την ως index του dataframe. Στο dataframe θα προσθέσετε ως στήλες τις τιμές των μετρικών (<B>Jaccard Coefficient</B>, <B>Preferential Attachment</B>, <B>Resource Allocation</B>) για τον μειωμένο γράφο $G'$. Οι τιμές των μετρικών μπορούν να υπολογιστούν με τις συναρτήσεις του πακέτου NetworkX.</li>   </font></html>\n",
        "    \n",
        "    |       | link  |Jacc.Coeff.|Pr.Attachment| Resource Allocation|\n",
        "    |-------|-------|-----------|-------------|--------------------|\n",
        "    |(1, 6) |  0    |  0.333333 |     32      |    0.700000        |\n",
        "    |(1, 46)|  0    |  0.200000 |      8      |    0.166667        |"
      ],
      "metadata": {
        "id": "vQ6duejPJd3I"
      },
      "id": "vQ6duejPJd3I"
    },
    {
      "cell_type": "code",
      "source": [
        "# Create copy of absent edges DataFrame\n",
        "dbpedia_absent_edges_full_df = dbpedia_absent_edges_df.copy()\n",
        "\n",
        "# Jaccard Coefficient : https://networkx.org/documentation/stable/reference/algorithms/generated/networkx.algorithms.link_prediction.jaccard_coefficient.html#networkx.algorithms.link_prediction.jaccard_coefficient\n",
        "# dbpedia_trunc_JC - list of tuples : [(1, 6, 0.0), (1, 7, 0.3), ...]\n",
        "dbpedia_trunc_JC_list = [x[2] for x in dbpedia_trunc_JC]\n",
        "\n",
        "# Preferential Attachment : https://networkx.org/documentation/stable/reference/algorithms/generated/networkx.algorithms.link_prediction.preferential_attachment.html\n",
        "dbpedia_trunc_PA = list(nx.preferential_attachment(dbpedia_trunc, dbpedia_absent_edges_pairs))\n",
        "dbpedia_trunc_PA_list = [x[2] for x in dbpedia_trunc_PA]\n",
        "\n",
        "# Resource Allocation : https://networkx.org/documentation/stable/reference/algorithms/generated/networkx.algorithms.link_prediction.resource_allocation_index.html\n",
        "dbpedia_trunc_RA = list(nx.resource_allocation_index(dbpedia_trunc, dbpedia_absent_edges_pairs))\n",
        "dbpedia_trunc_RA_list = [x[2] for x in dbpedia_trunc_RA]\n",
        "\n",
        "# Add additional columns to DataFrame\n",
        "dbpedia_absent_edges_full_df['Jacc.Coeff.'] = dbpedia_trunc_JC_list\n",
        "dbpedia_absent_edges_full_df['Pr.Attachment'] = dbpedia_trunc_PA_list\n",
        "dbpedia_absent_edges_full_df['Rsrc.Allocation'] = dbpedia_trunc_RA_list\n",
        "\n",
        "# Set edges column as index\n",
        "dbpedia_absent_edges_full_df = dbpedia_absent_edges_full_df.set_index('edge')\n",
        "\n",
        "display(dbpedia_absent_edges_full_df)"
      ],
      "metadata": {
        "colab": {
          "base_uri": "https://localhost:8080/",
          "height": 455
        },
        "id": "HWTVExbsaJJd",
        "outputId": "b9cd67d6-ba5c-48a2-83cf-f10e7f30862c"
      },
      "id": "HWTVExbsaJJd",
      "execution_count": 25,
      "outputs": [
        {
          "output_type": "display_data",
          "data": {
            "text/plain": [
              "            link  Jacc.Coeff.  Pr.Attachment  Rsrc.Allocation\n",
              "edge                                                         \n",
              "(1, 6)         0          0.0              7         0.000000\n",
              "(1, 46)        0          0.0              1         0.000000\n",
              "(1, 47)        0          0.0              1         0.000000\n",
              "(1, 48)        0          0.5              2         0.500000\n",
              "(1, 32)        0          0.0              6         0.000000\n",
              "...          ...          ...            ...              ...\n",
              "(401, 403)     1          1.0              1         0.166667\n",
              "(401, 404)     1          1.0              1         0.166667\n",
              "(402, 403)     1          1.0              1         0.166667\n",
              "(402, 404)     1          1.0              1         0.166667\n",
              "(403, 404)     1          1.0              1         0.166667\n",
              "\n",
              "[91900 rows x 4 columns]"
            ],
            "text/html": [
              "\n",
              "  <div id=\"df-73ce987b-df97-4f51-add3-a35553b683c4\">\n",
              "    <div class=\"colab-df-container\">\n",
              "      <div>\n",
              "<style scoped>\n",
              "    .dataframe tbody tr th:only-of-type {\n",
              "        vertical-align: middle;\n",
              "    }\n",
              "\n",
              "    .dataframe tbody tr th {\n",
              "        vertical-align: top;\n",
              "    }\n",
              "\n",
              "    .dataframe thead th {\n",
              "        text-align: right;\n",
              "    }\n",
              "</style>\n",
              "<table border=\"1\" class=\"dataframe\">\n",
              "  <thead>\n",
              "    <tr style=\"text-align: right;\">\n",
              "      <th></th>\n",
              "      <th>link</th>\n",
              "      <th>Jacc.Coeff.</th>\n",
              "      <th>Pr.Attachment</th>\n",
              "      <th>Rsrc.Allocation</th>\n",
              "    </tr>\n",
              "    <tr>\n",
              "      <th>edge</th>\n",
              "      <th></th>\n",
              "      <th></th>\n",
              "      <th></th>\n",
              "      <th></th>\n",
              "    </tr>\n",
              "  </thead>\n",
              "  <tbody>\n",
              "    <tr>\n",
              "      <th>(1, 6)</th>\n",
              "      <td>0</td>\n",
              "      <td>0.0</td>\n",
              "      <td>7</td>\n",
              "      <td>0.000000</td>\n",
              "    </tr>\n",
              "    <tr>\n",
              "      <th>(1, 46)</th>\n",
              "      <td>0</td>\n",
              "      <td>0.0</td>\n",
              "      <td>1</td>\n",
              "      <td>0.000000</td>\n",
              "    </tr>\n",
              "    <tr>\n",
              "      <th>(1, 47)</th>\n",
              "      <td>0</td>\n",
              "      <td>0.0</td>\n",
              "      <td>1</td>\n",
              "      <td>0.000000</td>\n",
              "    </tr>\n",
              "    <tr>\n",
              "      <th>(1, 48)</th>\n",
              "      <td>0</td>\n",
              "      <td>0.5</td>\n",
              "      <td>2</td>\n",
              "      <td>0.500000</td>\n",
              "    </tr>\n",
              "    <tr>\n",
              "      <th>(1, 32)</th>\n",
              "      <td>0</td>\n",
              "      <td>0.0</td>\n",
              "      <td>6</td>\n",
              "      <td>0.000000</td>\n",
              "    </tr>\n",
              "    <tr>\n",
              "      <th>...</th>\n",
              "      <td>...</td>\n",
              "      <td>...</td>\n",
              "      <td>...</td>\n",
              "      <td>...</td>\n",
              "    </tr>\n",
              "    <tr>\n",
              "      <th>(401, 403)</th>\n",
              "      <td>1</td>\n",
              "      <td>1.0</td>\n",
              "      <td>1</td>\n",
              "      <td>0.166667</td>\n",
              "    </tr>\n",
              "    <tr>\n",
              "      <th>(401, 404)</th>\n",
              "      <td>1</td>\n",
              "      <td>1.0</td>\n",
              "      <td>1</td>\n",
              "      <td>0.166667</td>\n",
              "    </tr>\n",
              "    <tr>\n",
              "      <th>(402, 403)</th>\n",
              "      <td>1</td>\n",
              "      <td>1.0</td>\n",
              "      <td>1</td>\n",
              "      <td>0.166667</td>\n",
              "    </tr>\n",
              "    <tr>\n",
              "      <th>(402, 404)</th>\n",
              "      <td>1</td>\n",
              "      <td>1.0</td>\n",
              "      <td>1</td>\n",
              "      <td>0.166667</td>\n",
              "    </tr>\n",
              "    <tr>\n",
              "      <th>(403, 404)</th>\n",
              "      <td>1</td>\n",
              "      <td>1.0</td>\n",
              "      <td>1</td>\n",
              "      <td>0.166667</td>\n",
              "    </tr>\n",
              "  </tbody>\n",
              "</table>\n",
              "<p>91900 rows × 4 columns</p>\n",
              "</div>\n",
              "      <button class=\"colab-df-convert\" onclick=\"convertToInteractive('df-73ce987b-df97-4f51-add3-a35553b683c4')\"\n",
              "              title=\"Convert this dataframe to an interactive table.\"\n",
              "              style=\"display:none;\">\n",
              "        \n",
              "  <svg xmlns=\"http://www.w3.org/2000/svg\" height=\"24px\"viewBox=\"0 0 24 24\"\n",
              "       width=\"24px\">\n",
              "    <path d=\"M0 0h24v24H0V0z\" fill=\"none\"/>\n",
              "    <path d=\"M18.56 5.44l.94 2.06.94-2.06 2.06-.94-2.06-.94-.94-2.06-.94 2.06-2.06.94zm-11 1L8.5 8.5l.94-2.06 2.06-.94-2.06-.94L8.5 2.5l-.94 2.06-2.06.94zm10 10l.94 2.06.94-2.06 2.06-.94-2.06-.94-.94-2.06-.94 2.06-2.06.94z\"/><path d=\"M17.41 7.96l-1.37-1.37c-.4-.4-.92-.59-1.43-.59-.52 0-1.04.2-1.43.59L10.3 9.45l-7.72 7.72c-.78.78-.78 2.05 0 2.83L4 21.41c.39.39.9.59 1.41.59.51 0 1.02-.2 1.41-.59l7.78-7.78 2.81-2.81c.8-.78.8-2.07 0-2.86zM5.41 20L4 18.59l7.72-7.72 1.47 1.35L5.41 20z\"/>\n",
              "  </svg>\n",
              "      </button>\n",
              "      \n",
              "  <style>\n",
              "    .colab-df-container {\n",
              "      display:flex;\n",
              "      flex-wrap:wrap;\n",
              "      gap: 12px;\n",
              "    }\n",
              "\n",
              "    .colab-df-convert {\n",
              "      background-color: #E8F0FE;\n",
              "      border: none;\n",
              "      border-radius: 50%;\n",
              "      cursor: pointer;\n",
              "      display: none;\n",
              "      fill: #1967D2;\n",
              "      height: 32px;\n",
              "      padding: 0 0 0 0;\n",
              "      width: 32px;\n",
              "    }\n",
              "\n",
              "    .colab-df-convert:hover {\n",
              "      background-color: #E2EBFA;\n",
              "      box-shadow: 0px 1px 2px rgba(60, 64, 67, 0.3), 0px 1px 3px 1px rgba(60, 64, 67, 0.15);\n",
              "      fill: #174EA6;\n",
              "    }\n",
              "\n",
              "    [theme=dark] .colab-df-convert {\n",
              "      background-color: #3B4455;\n",
              "      fill: #D2E3FC;\n",
              "    }\n",
              "\n",
              "    [theme=dark] .colab-df-convert:hover {\n",
              "      background-color: #434B5C;\n",
              "      box-shadow: 0px 1px 3px 1px rgba(0, 0, 0, 0.15);\n",
              "      filter: drop-shadow(0px 1px 2px rgba(0, 0, 0, 0.3));\n",
              "      fill: #FFFFFF;\n",
              "    }\n",
              "  </style>\n",
              "\n",
              "      <script>\n",
              "        const buttonEl =\n",
              "          document.querySelector('#df-73ce987b-df97-4f51-add3-a35553b683c4 button.colab-df-convert');\n",
              "        buttonEl.style.display =\n",
              "          google.colab.kernel.accessAllowed ? 'block' : 'none';\n",
              "\n",
              "        async function convertToInteractive(key) {\n",
              "          const element = document.querySelector('#df-73ce987b-df97-4f51-add3-a35553b683c4');\n",
              "          const dataTable =\n",
              "            await google.colab.kernel.invokeFunction('convertToInteractive',\n",
              "                                                     [key], {});\n",
              "          if (!dataTable) return;\n",
              "\n",
              "          const docLinkHtml = 'Like what you see? Visit the ' +\n",
              "            '<a target=\"_blank\" href=https://colab.research.google.com/notebooks/data_table.ipynb>data table notebook</a>'\n",
              "            + ' to learn more about interactive tables.';\n",
              "          element.innerHTML = '';\n",
              "          dataTable['output_type'] = 'display_data';\n",
              "          await google.colab.output.renderOutput(dataTable, element);\n",
              "          const docLink = document.createElement('div');\n",
              "          docLink.innerHTML = docLinkHtml;\n",
              "          element.appendChild(docLink);\n",
              "        }\n",
              "      </script>\n",
              "    </div>\n",
              "  </div>\n",
              "  "
            ]
          },
          "metadata": {}
        }
      ]
    },
    {
      "cell_type": "markdown",
      "id": "76f9318d",
      "metadata": {
        "id": "76f9318d"
      },
      "source": [
        "### 3.3 Random Forest Classifier\n"
      ]
    },
    {
      "cell_type": "code",
      "source": [
        "from sklearn.model_selection import train_test_split\n",
        "from sklearn.ensemble import RandomForestClassifier\n",
        "from sklearn.metrics import accuracy_score\n",
        "from sklearn.model_selection import GridSearchCV\n",
        "from sklearn.preprocessing import MinMaxScaler"
      ],
      "metadata": {
        "id": "SRWNDN2TUE0v"
      },
      "id": "SRWNDN2TUE0v",
      "execution_count": 26,
      "outputs": []
    },
    {
      "cell_type": "markdown",
      "source": [
        "#### 3.3.1 Model Training\n",
        "Χρησιμοποιήστε τον Random Forest Classifier και το αντίγραφο dataframe που κατασκευάσατε στο ερώτημα 3.2, για να προβλέψετε συνδέσεις. Συμπληρώστε στον κώδικα: τα features ($X$), την target variable ($y$) και τα ορίσματα της συνάρτησης $fit$ για το training του μοντέλου.</li>\n"
      ],
      "metadata": {
        "id": "1-gUvHqmVGb3"
      },
      "id": "1-gUvHqmVGb3"
    },
    {
      "cell_type": "markdown",
      "source": [
        "**Split Dataset**"
      ],
      "metadata": {
        "id": "oCNhEnxSUPay"
      },
      "id": "oCNhEnxSUPay"
    },
    {
      "cell_type": "code",
      "execution_count": 27,
      "id": "df4a65f5",
      "metadata": {
        "id": "df4a65f5"
      },
      "outputs": [],
      "source": [
        "# Split Data (Train Set, Test Set)\n",
        "dbpedia_model_X = dbpedia_absent_edges_full_df[dbpedia_absent_edges_full_df.columns[1:4]]  # features\n",
        "dbpedia_model_Y = dbpedia_absent_edges_full_df['link']                                     # target\n",
        "\n",
        "x_train, x_test, y_train, y_test = train_test_split(dbpedia_model_X, dbpedia_model_Y, test_size=0.33, random_state = 0)"
      ]
    },
    {
      "cell_type": "code",
      "source": [
        "dbpedia_metrics = [\n",
        "    (\"Train Set (data)\", len(x_train.index)),\n",
        "    (\"Test Set (data)\", len(x_test.index)),\n",
        "]\n",
        "print(table_view(dbpedia_metrics))"
      ],
      "metadata": {
        "colab": {
          "base_uri": "https://localhost:8080/"
        },
        "id": "fcsgFwioTMzV",
        "outputId": "cfdf5e6e-e2d2-4c48-837a-df06e77c5413"
      },
      "id": "fcsgFwioTMzV",
      "execution_count": 28,
      "outputs": [
        {
          "output_type": "stream",
          "name": "stdout",
          "text": [
            "+------------------+-------+\n",
            "| Train Set (data) | 61573 |\n",
            "+------------------+-------+\n",
            "| Test Set (data)  | 30327 |\n",
            "+------------------+-------+\n"
          ]
        }
      ]
    },
    {
      "cell_type": "markdown",
      "source": [
        "**Train Model (Random Forest Classifier)**"
      ],
      "metadata": {
        "id": "LKOn8wtfUSop"
      },
      "id": "LKOn8wtfUSop"
    },
    {
      "cell_type": "code",
      "source": [
        "# RandomForestClassifier : https://scikit-learn.org/stable/modules/generated/sklearn.ensemble.RandomForestClassifier.html\n",
        "RF_classifier = RandomForestClassifier()\n",
        "MM_scaler = MinMaxScaler() # For data normalization\n",
        "\n",
        "# Normalize features\n",
        "x_train_scaled = MM_scaler.fit_transform(x_train)\n",
        "x_test_scaled = MM_scaler.transform(x_test)\n",
        "\n",
        "# Parameters\n",
        "dbpedia_model_parameters = {\n",
        "    'n_estimators' : [10,50,100], # Number of trees in the forest\n",
        "    'max_depth' : [5,10,15]       # Max depth of the tree\n",
        "} \n",
        "dbpedia_model = GridSearchCV(RF_classifier, param_grid = dbpedia_model_parameters) "
      ],
      "metadata": {
        "id": "pzVPdZ3LUb16"
      },
      "id": "pzVPdZ3LUb16",
      "execution_count": 29,
      "outputs": []
    },
    {
      "cell_type": "code",
      "source": [
        "# Train Model\n",
        "dbpedia_model.fit(x_train_scaled, y_train)\n",
        "# Make predictions\n",
        "dbpedia_predictions = dbpedia_model.predict(x_test_scaled)  "
      ],
      "metadata": {
        "id": "xIswjcYg1pDw"
      },
      "id": "xIswjcYg1pDw",
      "execution_count": 30,
      "outputs": []
    },
    {
      "cell_type": "markdown",
      "source": [
        "#### 3.3.2 Top results\n",
        "Δώστε τις ($A.M$ $mod$ $10$) πρώτες προβλέψεις και την ακρίβεια ($accuracy$) του μοντέλου. </li>"
      ],
      "metadata": {
        "id": "XvovNu_RVISN"
      },
      "id": "XvovNu_RVISN"
    },
    {
      "cell_type": "code",
      "source": [
        "dbpedia_metrics = [\n",
        "    # Get first 3 predictions (should be 0)\n",
        "    (\"First 3 predictions\", list(dbpedia_predictions[:AM])),\n",
        "    # Get model accuracy\n",
        "    (\"Model accuracy\", accuracy_score(y_test, dbpedia_predictions)),\n",
        "]\n",
        "print(table_view(dbpedia_metrics))"
      ],
      "metadata": {
        "colab": {
          "base_uri": "https://localhost:8080/"
        },
        "id": "EopBoE_sTEEt",
        "outputId": "0845ca02-8f72-46da-c6d4-182ead2a6713"
      },
      "id": "EopBoE_sTEEt",
      "execution_count": 31,
      "outputs": [
        {
          "output_type": "stream",
          "name": "stdout",
          "text": [
            "+---------------------+-------------------+\n",
            "| First 3 predictions | [0, 0, 0]         |\n",
            "+---------------------+-------------------+\n",
            "| Model accuracy      | 0.998911860718172 |\n",
            "+---------------------+-------------------+\n"
          ]
        }
      ]
    },
    {
      "cell_type": "markdown",
      "source": [
        "#### 3.3.3 Calculate link prediction for (1, 47)\n",
        "Υπολογίστε την πιθανότητα να συνδεθούν οι κόμβοι ($1$,$47$) βάσει του μοντέλου σας. </li>  "
      ],
      "metadata": {
        "id": "HcXGQf8dVKhc"
      },
      "id": "HcXGQf8dVKhc"
    },
    {
      "cell_type": "code",
      "source": [
        "# Get the edge (1, 47) - DataFrame of features\n",
        "dbpedia_mode_X_1_47 = MM_scaler.transform(dbpedia_model_X.loc[[(1, 47)]])\n",
        "# Predict its probabilities - List of float (one probabiliy for each class)\n",
        "dbpedia_mode_X_1_47_prob = dbpedia_model.predict_proba(dbpedia_mode_X_1_47)\n",
        "# Get the probability for class 1 (link exists)\n",
        "dbpedia_metrics = [\n",
        "    (\"Probability for (1 - 47) link\", dbpedia_mode_X_1_47_prob[0][1]),\n",
        "]\n",
        "print(table_view(dbpedia_metrics))"
      ],
      "metadata": {
        "colab": {
          "base_uri": "https://localhost:8080/"
        },
        "id": "-sK1GHyJ4sBh",
        "outputId": "c36bd80b-2e0e-4fc4-cb7b-75f020410bea"
      },
      "id": "-sK1GHyJ4sBh",
      "execution_count": 32,
      "outputs": [
        {
          "output_type": "stream",
          "name": "stdout",
          "text": [
            "+-------------------------------+-------------+\n",
            "| Probability for (1 - 47) link | 0.000343134 |\n",
            "+-------------------------------+-------------+\n"
          ]
        }
      ]
    },
    {
      "cell_type": "markdown",
      "id": "f4c43988",
      "metadata": {
        "id": "f4c43988"
      },
      "source": [
        "## 4.Πρόβλεψη συνδέσμων με embedding βασισμένο σε τυχαίους περιπάτους (Random Walks)"
      ]
    },
    {
      "cell_type": "markdown",
      "source": [
        "### 4.1 Feature extraction\n",
        "Εξάγετε τα χαρακτηριστικά (features) του γράφου $G'$, που προέκυψε από την αφαίρεση των ακμών. Για τον σκοπό αυτό χρησιμοποιήστε τον αλγόριθμο <B>Node2vec</B> <a href=\"https://cs.stanford.edu/~jure/pubs/node2vec-kdd16.pdf\">[3]</a>. Ο αλγόριθμος αντιστοιχίζει τους κόμβους του γράφου μέσω τυχαίων περιπάτων (biased 2nd order random walks) σε ένα χώρο μικρού αριθμού διαστάσεων (low dimensional space) διατηρώντας την μεταξύ τους γειτνίαση.\n",
        "<BR>Για την επιλογή των παραμέτρων: \n",
        "<li>p - παράμετρος τυχαίων περιπάτων p που καθορίζει την πιθανότητα “1/p” επιστροφής στον κόμβο προέλευσης (source node), </li>\n",
        "<li>q - παράμετρος τυχαίων περιπάτων q που καθορίζει την πιθανότητα  “1/q” μετακίνησης σε κόμβο μακριά από τον κόμβο προέλευσης (source node), </li>\n",
        "<li>dimensions - πλήθος διαστάσεων των Node2Vec embeddings, </li>\n",
        "<li>num_walks - αριθμός περιπάτων από κάθε κόμβο, </li>\n",
        "<li>walk_length - μήκος τυχαίου περιπάτου, </li>\n",
        "<li>window_size - μέγεθος παραθύρου context για τον αλγόριθμο Word2Vec, </li>\n",
        "<li>num_iter - αριθμός SGD επαναλήψεων (epochs), </li>\n",
        "<li>workers - αριθμός workers για τον Word2Vec,</li>\n",
        "            χρησιμοποιήστε τις τιμές:   </html>\n",
        "   \n",
        "                   "
      ],
      "metadata": {
        "id": "481d25-1LvxF"
      },
      "id": "481d25-1LvxF"
    },
    {
      "cell_type": "markdown",
      "id": "fdbc5274",
      "metadata": {
        "id": "fdbc5274"
      },
      "source": [
        " |   p   |   q   | dimensions|  num_walks  |walk_length |window_size|        workers            |\n",
        " |-------|-------|-----------|-------------|------------|-----------|---------------------------|\n",
        " |  1.0  |  1.0  |  128      |     10      |    80      |     10    |multiprocessing.cpu_count()|"
      ]
    },
    {
      "cell_type": "code",
      "execution_count": 36,
      "id": "aa8e668d",
      "metadata": {
        "colab": {
          "base_uri": "https://localhost:8080/",
          "height": 49,
          "referenced_widgets": [
            "05933481783a4d86ac5f42a5ebfb4d21",
            "fe6551939d4c4f2ba6b0509520070abe",
            "4f383d35f2ee439f8220226282c45d8c",
            "e4e2fca4431b46dd86bfde11b914e4bb",
            "2ce400fb3f914acb939123e1c5b7d0c1",
            "1765055bee9e47cc89088bb76b84f58e",
            "942413d687ec4569b1a2f4733fc0e97f",
            "86f975e1a017439898f92ca928ed2248",
            "cd751363b8a641649f4b4b6009b96958",
            "0715e162124f474cbe35d40ef39fd0a8",
            "fa758dd9632747938906821dddecc39c"
          ]
        },
        "id": "aa8e668d",
        "outputId": "dacb79dc-3aab-4dc4-c001-a612ba9471e4"
      },
      "outputs": [
        {
          "output_type": "display_data",
          "data": {
            "text/plain": [
              "Computing transition probabilities:   0%|          | 0/430 [00:00<?, ?it/s]"
            ],
            "application/vnd.jupyter.widget-view+json": {
              "version_major": 2,
              "version_minor": 0,
              "model_id": "05933481783a4d86ac5f42a5ebfb4d21"
            }
          },
          "metadata": {}
        }
      ],
      "source": [
        "from node2vec import Node2Vec  \n",
        "import multiprocessing         \n",
        "\n",
        "#generate walks\n",
        "node2vec_walker = Node2Vec(\n",
        "    dbpedia_trunc, \n",
        "    p = 1.0, \n",
        "    q = 1.0, \n",
        "    dimensions = 128, \n",
        "    num_walks = 10, \n",
        "    walk_length = 80,\n",
        "    workers = multiprocessing.cpu_count()\n",
        ")\n",
        "\n",
        "#train node2vec model\n",
        "node2vec_model = node2vec_walker.fit(window = 10 , min_count = 1)"
      ]
    },
    {
      "cell_type": "markdown",
      "id": "294f0aab",
      "metadata": {
        "id": "294f0aab"
      },
      "source": [
        "### 4.2 Apply Random Forest\n",
        "Εφαρμόστε τον αλγόριθμο Random Forest Classifier, για να προβλέψετε τις συνδέσεις."
      ]
    },
    {
      "cell_type": "code",
      "source": [
        "#apply trained Node2Vec model on each node pair of the dataframe \"unconnected + removables\"\n",
        "# Unconnected + Removable edges : dbpedia_absent_edges_pairs - list of pairs [(1, 2), (1, 3), ...]\n",
        "dbpedia_node2vec_X = [(node2vec_model.wv[str(i)] + node2vec_model.wv[str(j)]) for i, j in dbpedia_absent_edges_pairs]   # features\n",
        "dbpedia_node2vec_Y = list(dbpedia_absent_edges_full_df['link'])                                                         # target"
      ],
      "metadata": {
        "id": "HljRfCUxSGd5"
      },
      "id": "HljRfCUxSGd5",
      "execution_count": 50,
      "outputs": []
    },
    {
      "cell_type": "code",
      "source": [
        "# Split Data (Train Set, Test Set)\n",
        "x_train, x_test, y_train, y_test = train_test_split(dbpedia_node2vec_X, dbpedia_node2vec_Y, test_size=0.33, random_state = 0)"
      ],
      "metadata": {
        "id": "GBCtvQP1X7Yx"
      },
      "id": "GBCtvQP1X7Yx",
      "execution_count": 56,
      "outputs": []
    },
    {
      "cell_type": "code",
      "source": [
        "RF_classifier = RandomForestClassifier(\n",
        "    max_depth=2, \n",
        "    random_state=0\n",
        ") \n",
        "\n",
        "# Train the model\n",
        "RF_classifier.fit(x_train, y_train)   \n",
        "# Make predictions\n",
        "dbpedia_node2vec_predictions = RF_classifier.predict(x_test) "
      ],
      "metadata": {
        "id": "esLi-dIDY_3M"
      },
      "id": "esLi-dIDY_3M",
      "execution_count": 57,
      "outputs": []
    },
    {
      "cell_type": "markdown",
      "source": [
        "### 4.3 Calculate Accuracy\n",
        "Υπολογίστε την ακρίβεια ($accuracy$) του μοντέλου. </li><BR></font></html>"
      ],
      "metadata": {
        "id": "277ziAWZMLOb"
      },
      "id": "277ziAWZMLOb"
    },
    {
      "cell_type": "code",
      "source": [
        "dbpedia_metrics = [\n",
        "    # Get model accuracy\n",
        "    (\"Model accuracy\", accuracy_score(y_test, dbpedia_node2vec_predictions)),\n",
        "]\n",
        "print(table_view(dbpedia_metrics))"
      ],
      "metadata": {
        "colab": {
          "base_uri": "https://localhost:8080/"
        },
        "id": "LneIandTa7Ie",
        "outputId": "db77fa47-8355-415f-c35b-a890485bd704"
      },
      "id": "LneIandTa7Ie",
      "execution_count": 59,
      "outputs": [
        {
          "output_type": "stream",
          "name": "stdout",
          "text": [
            "+----------------+----------+\n",
            "| Model accuracy | 0.998648 |\n",
            "+----------------+----------+\n"
          ]
        }
      ]
    },
    {
      "cell_type": "markdown",
      "id": "a0c0b3bb",
      "metadata": {
        "id": "a0c0b3bb"
      },
      "source": [
        "### Ερώτηση bonus (+10/100):\n",
        "Για τους binary operators για learning των edge features με τον αλγόριθμο Node2Vec που αναφέρονται στο <a href=\"https://cs.stanford.edu/~jure/pubs/node2vec-kdd16.pdf\">[3]</a> ((α) Average, (β) Hadamard, (γ) Weighted-L1 και (δ) Weighted-L2) τροποποιήστε τoν κώδικά σας και σημειώστε τις παρατηρήσεις σας ως προς την απόδοση του αλγορίθμου.</font></html>"
      ]
    },
    {
      "cell_type": "markdown",
      "id": "8da3a402",
      "metadata": {
        "id": "8da3a402"
      },
      "source": [
        "<html><font size=4><B><U>Βιβλιογραφία:</U></B><BR></font>\n",
        "<a href=\"https://dl.acm.org/doi/10.1145/2487788.2488173\">[1]\tJérôme Kunegis. KONECT – The Koblenz Network Collection. In Proc. Int. Conf. on World Wide Web Companion, pages 1343–1350, 2013.</a><BR>\n",
        "<a href=\"https://link.springer.com/chapter/10.1007/978-3-540-76298-0_52\">[2]\tSören Auer, Christian Bizer, Georgi Kobilarov, Jens Lehmann, Richard Cyganiak, and Zachary Ives. DBpedia: A nucleus for a web of open data. In Proc. Int. Semant. Web Conf., pages 722–735, 2008.<BR>\n",
        "<a href=\"https://cs.stanford.edu/~jure/pubs/node2vec-kdd16.pdf\">[3] A. Grover, J. Leskovec, Node2vec: Scalable Feature Learning for Networks. ACM KDD, 2016.</a><BR>\n",
        " <a href=\"https://proceedings.neurips.cc/paper/2013/file/9aa42b31882ec039965f3c4923ce901b-Paper.pdf\">[4] T.Mikolov, I.Sutskever, K.Chen, G.S.Corrado and J.Dean, Distributed representations of words and phrases and their compositionality. In NIPS, 2013.</a><BR></font></html>"
      ]
    },
    {
      "cell_type": "code",
      "source": [
        "from node2vec.edges import (\n",
        "    AverageEmbedder,\n",
        "    HadamardEmbedder,\n",
        "    WeightedL1Embedder,\n",
        "    WeightedL2Embedder,\n",
        ")"
      ],
      "metadata": {
        "id": "gLGtFgUod5IE"
      },
      "id": "gLGtFgUod5IE",
      "execution_count": 60,
      "outputs": []
    },
    {
      "cell_type": "code",
      "source": [
        "def model_accuracy(embedder):\n",
        "  # Create the binary operator\n",
        "  binary_operator = embedder(keyed_vectors=node2vec_model.wv)\n",
        "  # Create the vector embeddings (with the operator)\n",
        "  dbpedia_node2vec_X = [binary_operator[(str(i), str(j))] for i, j in dbpedia_absent_edges_pairs]   # features\n",
        "  dbpedia_node2vec_Y = list(dbpedia_absent_edges_full_df['link'])                                   # target\n",
        "\n",
        "  # Split Data (Train Set, Test Set)\n",
        "  x_train, x_test, y_train, y_test = train_test_split(dbpedia_node2vec_X, dbpedia_node2vec_Y, test_size=0.33, random_state = 0)  \n",
        "  # Create a RF classifier instance\n",
        "  RF_classifier = RandomForestClassifier(\n",
        "    max_depth=2, \n",
        "    random_state=0\n",
        "  ) \n",
        "\n",
        "  # Train the model\n",
        "  RF_classifier.fit(x_train, y_train)   \n",
        "  # Make predictions\n",
        "  dbpedia_node2vec_predictions = RF_classifier.predict(x_test) \n",
        "\n",
        "  return accuracy_score(y_test, dbpedia_node2vec_predictions)"
      ],
      "metadata": {
        "id": "2G4_vkh5dV1n"
      },
      "id": "2G4_vkh5dV1n",
      "execution_count": 61,
      "outputs": []
    },
    {
      "cell_type": "code",
      "source": [
        "dbpedia_metrics = [\n",
        "    (\"Average\", model_accuracy(AverageEmbedder)),\n",
        "    (\"Hadamard\", model_accuracy(HadamardEmbedder)),\n",
        "    (\"Weighted-L1\", model_accuracy(WeightedL1Embedder)),\n",
        "    (\"Weighted-L2\", model_accuracy(WeightedL2Embedder)),\n",
        "]\n",
        "print(table_view(dbpedia_metrics))"
      ],
      "metadata": {
        "colab": {
          "base_uri": "https://localhost:8080/"
        },
        "id": "62izt47QiCtk",
        "outputId": "ada8d131-eb00-4c30-8673-9b27ceb2b03f"
      },
      "id": "62izt47QiCtk",
      "execution_count": 63,
      "outputs": [
        {
          "output_type": "stream",
          "name": "stdout",
          "text": [
            "+-------------+----------+\n",
            "| Average     | 0.998648 |\n",
            "+-------------+----------+\n",
            "| Hadamard    | 0.998318 |\n",
            "+-------------+----------+\n",
            "| Weighted-L1 | 0.997395 |\n",
            "+-------------+----------+\n",
            "| Weighted-L2 | 0.997395 |\n",
            "+-------------+----------+\n"
          ]
        }
      ]
    },
    {
      "cell_type": "markdown",
      "source": [
        "**Παρατηρήσεις**\n",
        "\n",
        "---\n",
        "Από τους 4 binary operators παρατηρούμε ότι αυτός με το μεγαλύτερο accuracy score είναι o Average ο οποίος όμως δεν ξεπερνά το accuracy της απλής υλοποίησης του node2vec στην οποία απλά προσθέτουμε τα embeddings των 2 άκρων του διανύσματος."
      ],
      "metadata": {
        "id": "VIYJjexZiwkX"
      },
      "id": "VIYJjexZiwkX"
    }
  ],
  "metadata": {
    "kernelspec": {
      "display_name": "Python 3",
      "language": "python",
      "name": "python3"
    },
    "language_info": {
      "codemirror_mode": {
        "name": "ipython",
        "version": 3
      },
      "file_extension": ".py",
      "mimetype": "text/x-python",
      "name": "python",
      "nbconvert_exporter": "python",
      "pygments_lexer": "ipython3",
      "version": "3.8.8"
    },
    "colab": {
      "provenance": [],
      "toc_visible": true
    },
    "widgets": {
      "application/vnd.jupyter.widget-state+json": {
        "05933481783a4d86ac5f42a5ebfb4d21": {
          "model_module": "@jupyter-widgets/controls",
          "model_name": "HBoxModel",
          "model_module_version": "1.5.0",
          "state": {
            "_dom_classes": [],
            "_model_module": "@jupyter-widgets/controls",
            "_model_module_version": "1.5.0",
            "_model_name": "HBoxModel",
            "_view_count": null,
            "_view_module": "@jupyter-widgets/controls",
            "_view_module_version": "1.5.0",
            "_view_name": "HBoxView",
            "box_style": "",
            "children": [
              "IPY_MODEL_fe6551939d4c4f2ba6b0509520070abe",
              "IPY_MODEL_4f383d35f2ee439f8220226282c45d8c",
              "IPY_MODEL_e4e2fca4431b46dd86bfde11b914e4bb"
            ],
            "layout": "IPY_MODEL_2ce400fb3f914acb939123e1c5b7d0c1"
          }
        },
        "fe6551939d4c4f2ba6b0509520070abe": {
          "model_module": "@jupyter-widgets/controls",
          "model_name": "HTMLModel",
          "model_module_version": "1.5.0",
          "state": {
            "_dom_classes": [],
            "_model_module": "@jupyter-widgets/controls",
            "_model_module_version": "1.5.0",
            "_model_name": "HTMLModel",
            "_view_count": null,
            "_view_module": "@jupyter-widgets/controls",
            "_view_module_version": "1.5.0",
            "_view_name": "HTMLView",
            "description": "",
            "description_tooltip": null,
            "layout": "IPY_MODEL_1765055bee9e47cc89088bb76b84f58e",
            "placeholder": "​",
            "style": "IPY_MODEL_942413d687ec4569b1a2f4733fc0e97f",
            "value": "Computing transition probabilities: 100%"
          }
        },
        "4f383d35f2ee439f8220226282c45d8c": {
          "model_module": "@jupyter-widgets/controls",
          "model_name": "FloatProgressModel",
          "model_module_version": "1.5.0",
          "state": {
            "_dom_classes": [],
            "_model_module": "@jupyter-widgets/controls",
            "_model_module_version": "1.5.0",
            "_model_name": "FloatProgressModel",
            "_view_count": null,
            "_view_module": "@jupyter-widgets/controls",
            "_view_module_version": "1.5.0",
            "_view_name": "ProgressView",
            "bar_style": "success",
            "description": "",
            "description_tooltip": null,
            "layout": "IPY_MODEL_86f975e1a017439898f92ca928ed2248",
            "max": 430,
            "min": 0,
            "orientation": "horizontal",
            "style": "IPY_MODEL_cd751363b8a641649f4b4b6009b96958",
            "value": 430
          }
        },
        "e4e2fca4431b46dd86bfde11b914e4bb": {
          "model_module": "@jupyter-widgets/controls",
          "model_name": "HTMLModel",
          "model_module_version": "1.5.0",
          "state": {
            "_dom_classes": [],
            "_model_module": "@jupyter-widgets/controls",
            "_model_module_version": "1.5.0",
            "_model_name": "HTMLModel",
            "_view_count": null,
            "_view_module": "@jupyter-widgets/controls",
            "_view_module_version": "1.5.0",
            "_view_name": "HTMLView",
            "description": "",
            "description_tooltip": null,
            "layout": "IPY_MODEL_0715e162124f474cbe35d40ef39fd0a8",
            "placeholder": "​",
            "style": "IPY_MODEL_fa758dd9632747938906821dddecc39c",
            "value": " 430/430 [00:00&lt;00:00, 1103.23it/s]"
          }
        },
        "2ce400fb3f914acb939123e1c5b7d0c1": {
          "model_module": "@jupyter-widgets/base",
          "model_name": "LayoutModel",
          "model_module_version": "1.2.0",
          "state": {
            "_model_module": "@jupyter-widgets/base",
            "_model_module_version": "1.2.0",
            "_model_name": "LayoutModel",
            "_view_count": null,
            "_view_module": "@jupyter-widgets/base",
            "_view_module_version": "1.2.0",
            "_view_name": "LayoutView",
            "align_content": null,
            "align_items": null,
            "align_self": null,
            "border": null,
            "bottom": null,
            "display": null,
            "flex": null,
            "flex_flow": null,
            "grid_area": null,
            "grid_auto_columns": null,
            "grid_auto_flow": null,
            "grid_auto_rows": null,
            "grid_column": null,
            "grid_gap": null,
            "grid_row": null,
            "grid_template_areas": null,
            "grid_template_columns": null,
            "grid_template_rows": null,
            "height": null,
            "justify_content": null,
            "justify_items": null,
            "left": null,
            "margin": null,
            "max_height": null,
            "max_width": null,
            "min_height": null,
            "min_width": null,
            "object_fit": null,
            "object_position": null,
            "order": null,
            "overflow": null,
            "overflow_x": null,
            "overflow_y": null,
            "padding": null,
            "right": null,
            "top": null,
            "visibility": null,
            "width": null
          }
        },
        "1765055bee9e47cc89088bb76b84f58e": {
          "model_module": "@jupyter-widgets/base",
          "model_name": "LayoutModel",
          "model_module_version": "1.2.0",
          "state": {
            "_model_module": "@jupyter-widgets/base",
            "_model_module_version": "1.2.0",
            "_model_name": "LayoutModel",
            "_view_count": null,
            "_view_module": "@jupyter-widgets/base",
            "_view_module_version": "1.2.0",
            "_view_name": "LayoutView",
            "align_content": null,
            "align_items": null,
            "align_self": null,
            "border": null,
            "bottom": null,
            "display": null,
            "flex": null,
            "flex_flow": null,
            "grid_area": null,
            "grid_auto_columns": null,
            "grid_auto_flow": null,
            "grid_auto_rows": null,
            "grid_column": null,
            "grid_gap": null,
            "grid_row": null,
            "grid_template_areas": null,
            "grid_template_columns": null,
            "grid_template_rows": null,
            "height": null,
            "justify_content": null,
            "justify_items": null,
            "left": null,
            "margin": null,
            "max_height": null,
            "max_width": null,
            "min_height": null,
            "min_width": null,
            "object_fit": null,
            "object_position": null,
            "order": null,
            "overflow": null,
            "overflow_x": null,
            "overflow_y": null,
            "padding": null,
            "right": null,
            "top": null,
            "visibility": null,
            "width": null
          }
        },
        "942413d687ec4569b1a2f4733fc0e97f": {
          "model_module": "@jupyter-widgets/controls",
          "model_name": "DescriptionStyleModel",
          "model_module_version": "1.5.0",
          "state": {
            "_model_module": "@jupyter-widgets/controls",
            "_model_module_version": "1.5.0",
            "_model_name": "DescriptionStyleModel",
            "_view_count": null,
            "_view_module": "@jupyter-widgets/base",
            "_view_module_version": "1.2.0",
            "_view_name": "StyleView",
            "description_width": ""
          }
        },
        "86f975e1a017439898f92ca928ed2248": {
          "model_module": "@jupyter-widgets/base",
          "model_name": "LayoutModel",
          "model_module_version": "1.2.0",
          "state": {
            "_model_module": "@jupyter-widgets/base",
            "_model_module_version": "1.2.0",
            "_model_name": "LayoutModel",
            "_view_count": null,
            "_view_module": "@jupyter-widgets/base",
            "_view_module_version": "1.2.0",
            "_view_name": "LayoutView",
            "align_content": null,
            "align_items": null,
            "align_self": null,
            "border": null,
            "bottom": null,
            "display": null,
            "flex": null,
            "flex_flow": null,
            "grid_area": null,
            "grid_auto_columns": null,
            "grid_auto_flow": null,
            "grid_auto_rows": null,
            "grid_column": null,
            "grid_gap": null,
            "grid_row": null,
            "grid_template_areas": null,
            "grid_template_columns": null,
            "grid_template_rows": null,
            "height": null,
            "justify_content": null,
            "justify_items": null,
            "left": null,
            "margin": null,
            "max_height": null,
            "max_width": null,
            "min_height": null,
            "min_width": null,
            "object_fit": null,
            "object_position": null,
            "order": null,
            "overflow": null,
            "overflow_x": null,
            "overflow_y": null,
            "padding": null,
            "right": null,
            "top": null,
            "visibility": null,
            "width": null
          }
        },
        "cd751363b8a641649f4b4b6009b96958": {
          "model_module": "@jupyter-widgets/controls",
          "model_name": "ProgressStyleModel",
          "model_module_version": "1.5.0",
          "state": {
            "_model_module": "@jupyter-widgets/controls",
            "_model_module_version": "1.5.0",
            "_model_name": "ProgressStyleModel",
            "_view_count": null,
            "_view_module": "@jupyter-widgets/base",
            "_view_module_version": "1.2.0",
            "_view_name": "StyleView",
            "bar_color": null,
            "description_width": ""
          }
        },
        "0715e162124f474cbe35d40ef39fd0a8": {
          "model_module": "@jupyter-widgets/base",
          "model_name": "LayoutModel",
          "model_module_version": "1.2.0",
          "state": {
            "_model_module": "@jupyter-widgets/base",
            "_model_module_version": "1.2.0",
            "_model_name": "LayoutModel",
            "_view_count": null,
            "_view_module": "@jupyter-widgets/base",
            "_view_module_version": "1.2.0",
            "_view_name": "LayoutView",
            "align_content": null,
            "align_items": null,
            "align_self": null,
            "border": null,
            "bottom": null,
            "display": null,
            "flex": null,
            "flex_flow": null,
            "grid_area": null,
            "grid_auto_columns": null,
            "grid_auto_flow": null,
            "grid_auto_rows": null,
            "grid_column": null,
            "grid_gap": null,
            "grid_row": null,
            "grid_template_areas": null,
            "grid_template_columns": null,
            "grid_template_rows": null,
            "height": null,
            "justify_content": null,
            "justify_items": null,
            "left": null,
            "margin": null,
            "max_height": null,
            "max_width": null,
            "min_height": null,
            "min_width": null,
            "object_fit": null,
            "object_position": null,
            "order": null,
            "overflow": null,
            "overflow_x": null,
            "overflow_y": null,
            "padding": null,
            "right": null,
            "top": null,
            "visibility": null,
            "width": null
          }
        },
        "fa758dd9632747938906821dddecc39c": {
          "model_module": "@jupyter-widgets/controls",
          "model_name": "DescriptionStyleModel",
          "model_module_version": "1.5.0",
          "state": {
            "_model_module": "@jupyter-widgets/controls",
            "_model_module_version": "1.5.0",
            "_model_name": "DescriptionStyleModel",
            "_view_count": null,
            "_view_module": "@jupyter-widgets/base",
            "_view_module_version": "1.2.0",
            "_view_name": "StyleView",
            "description_width": ""
          }
        }
      }
    }
  },
  "nbformat": 4,
  "nbformat_minor": 5
}